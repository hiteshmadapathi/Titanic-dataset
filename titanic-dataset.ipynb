{
 "cells": [
  {
   "cell_type": "code",
   "execution_count": 1,
   "metadata": {
    "_cell_guid": "b1076dfc-b9ad-4769-8c92-a6c4dae69d19",
    "_uuid": "8f2839f25d086af736a60e9eeb907d3b93b6e0e5",
    "execution": {
     "iopub.execute_input": "2021-07-30T06:50:36.227147Z",
     "iopub.status.busy": "2021-07-30T06:50:36.226749Z",
     "iopub.status.idle": "2021-07-30T06:50:36.242197Z",
     "shell.execute_reply": "2021-07-30T06:50:36.241128Z",
     "shell.execute_reply.started": "2021-07-30T06:50:36.227062Z"
    }
   },
   "outputs": [
    {
     "name": "stdout",
     "output_type": "stream",
     "text": [
      "/kaggle/input/titanic/train.csv\n",
      "/kaggle/input/titanic/test.csv\n",
      "/kaggle/input/titanic/gender_submission.csv\n"
     ]
    }
   ],
   "source": [
    "# This Python 3 environment comes with many helpful analytics libraries installed\n",
    "# It is defined by the kaggle/python Docker image: https://github.com/kaggle/docker-python\n",
    "# For example, here's several helpful packages to load\n",
    "\n",
    "import numpy as np # linear algebra\n",
    "import pandas as pd # data processing, CSV file I/O (e.g. pd.read_csv)\n",
    "\n",
    "# Input data files are available in the read-only \"../input/\" directory\n",
    "# For example, running this (by clicking run or pressing Shift+Enter) will list all files under the input directory\n",
    "\n",
    "import os\n",
    "for dirname, _, filenames in os.walk('/kaggle/input'):\n",
    "    for filename in filenames:\n",
    "        print(os.path.join(dirname, filename))\n",
    "\n",
    "# You can write up to 20GB to the current directory (/kaggle/working/) that gets preserved as output when you create a version using \"Save & Run All\" \n",
    "# You can also write temporary files to /kaggle/temp/, but they won't be saved outside of the current session"
   ]
  },
  {
   "cell_type": "markdown",
   "metadata": {},
   "source": [
    "# DataSet"
   ]
  },
  {
   "cell_type": "code",
   "execution_count": 2,
   "metadata": {
    "execution": {
     "iopub.execute_input": "2021-07-30T06:50:38.918255Z",
     "iopub.status.busy": "2021-07-30T06:50:38.917723Z",
     "iopub.status.idle": "2021-07-30T06:50:40.016642Z",
     "shell.execute_reply": "2021-07-30T06:50:40.015894Z",
     "shell.execute_reply.started": "2021-07-30T06:50:38.918220Z"
    }
   },
   "outputs": [],
   "source": [
    "import matplotlib.pyplot as plt\n",
    "import seaborn as sns\n",
    "import sklearn"
   ]
  },
  {
   "cell_type": "code",
   "execution_count": 27,
   "metadata": {
    "execution": {
     "iopub.execute_input": "2021-07-30T07:10:33.557186Z",
     "iopub.status.busy": "2021-07-30T07:10:33.556807Z",
     "iopub.status.idle": "2021-07-30T07:10:33.575700Z",
     "shell.execute_reply": "2021-07-30T07:10:33.574774Z",
     "shell.execute_reply.started": "2021-07-30T07:10:33.557135Z"
    }
   },
   "outputs": [],
   "source": [
    "train = pd.read_csv('../input/titanic/train.csv')\n",
    "test = pd.read_csv('../input/titanic/test.csv')"
   ]
  },
  {
   "cell_type": "code",
   "execution_count": 28,
   "metadata": {
    "execution": {
     "iopub.execute_input": "2021-07-30T07:10:34.402093Z",
     "iopub.status.busy": "2021-07-30T07:10:34.401728Z",
     "iopub.status.idle": "2021-07-30T07:10:34.420568Z",
     "shell.execute_reply": "2021-07-30T07:10:34.419401Z",
     "shell.execute_reply.started": "2021-07-30T07:10:34.402061Z"
    }
   },
   "outputs": [
    {
     "data": {
      "text/html": [
       "<div>\n",
       "<style scoped>\n",
       "    .dataframe tbody tr th:only-of-type {\n",
       "        vertical-align: middle;\n",
       "    }\n",
       "\n",
       "    .dataframe tbody tr th {\n",
       "        vertical-align: top;\n",
       "    }\n",
       "\n",
       "    .dataframe thead th {\n",
       "        text-align: right;\n",
       "    }\n",
       "</style>\n",
       "<table border=\"1\" class=\"dataframe\">\n",
       "  <thead>\n",
       "    <tr style=\"text-align: right;\">\n",
       "      <th></th>\n",
       "      <th>PassengerId</th>\n",
       "      <th>Survived</th>\n",
       "      <th>Pclass</th>\n",
       "      <th>Name</th>\n",
       "      <th>Sex</th>\n",
       "      <th>Age</th>\n",
       "      <th>SibSp</th>\n",
       "      <th>Parch</th>\n",
       "      <th>Ticket</th>\n",
       "      <th>Fare</th>\n",
       "      <th>Cabin</th>\n",
       "      <th>Embarked</th>\n",
       "    </tr>\n",
       "  </thead>\n",
       "  <tbody>\n",
       "    <tr>\n",
       "      <th>0</th>\n",
       "      <td>1</td>\n",
       "      <td>0</td>\n",
       "      <td>3</td>\n",
       "      <td>Braund, Mr. Owen Harris</td>\n",
       "      <td>male</td>\n",
       "      <td>22.0</td>\n",
       "      <td>1</td>\n",
       "      <td>0</td>\n",
       "      <td>A/5 21171</td>\n",
       "      <td>7.2500</td>\n",
       "      <td>NaN</td>\n",
       "      <td>S</td>\n",
       "    </tr>\n",
       "    <tr>\n",
       "      <th>1</th>\n",
       "      <td>2</td>\n",
       "      <td>1</td>\n",
       "      <td>1</td>\n",
       "      <td>Cumings, Mrs. John Bradley (Florence Briggs Th...</td>\n",
       "      <td>female</td>\n",
       "      <td>38.0</td>\n",
       "      <td>1</td>\n",
       "      <td>0</td>\n",
       "      <td>PC 17599</td>\n",
       "      <td>71.2833</td>\n",
       "      <td>C85</td>\n",
       "      <td>C</td>\n",
       "    </tr>\n",
       "    <tr>\n",
       "      <th>2</th>\n",
       "      <td>3</td>\n",
       "      <td>1</td>\n",
       "      <td>3</td>\n",
       "      <td>Heikkinen, Miss. Laina</td>\n",
       "      <td>female</td>\n",
       "      <td>26.0</td>\n",
       "      <td>0</td>\n",
       "      <td>0</td>\n",
       "      <td>STON/O2. 3101282</td>\n",
       "      <td>7.9250</td>\n",
       "      <td>NaN</td>\n",
       "      <td>S</td>\n",
       "    </tr>\n",
       "    <tr>\n",
       "      <th>3</th>\n",
       "      <td>4</td>\n",
       "      <td>1</td>\n",
       "      <td>1</td>\n",
       "      <td>Futrelle, Mrs. Jacques Heath (Lily May Peel)</td>\n",
       "      <td>female</td>\n",
       "      <td>35.0</td>\n",
       "      <td>1</td>\n",
       "      <td>0</td>\n",
       "      <td>113803</td>\n",
       "      <td>53.1000</td>\n",
       "      <td>C123</td>\n",
       "      <td>S</td>\n",
       "    </tr>\n",
       "    <tr>\n",
       "      <th>4</th>\n",
       "      <td>5</td>\n",
       "      <td>0</td>\n",
       "      <td>3</td>\n",
       "      <td>Allen, Mr. William Henry</td>\n",
       "      <td>male</td>\n",
       "      <td>35.0</td>\n",
       "      <td>0</td>\n",
       "      <td>0</td>\n",
       "      <td>373450</td>\n",
       "      <td>8.0500</td>\n",
       "      <td>NaN</td>\n",
       "      <td>S</td>\n",
       "    </tr>\n",
       "  </tbody>\n",
       "</table>\n",
       "</div>"
      ],
      "text/plain": [
       "   PassengerId  Survived  Pclass  \\\n",
       "0            1         0       3   \n",
       "1            2         1       1   \n",
       "2            3         1       3   \n",
       "3            4         1       1   \n",
       "4            5         0       3   \n",
       "\n",
       "                                                Name     Sex   Age  SibSp  \\\n",
       "0                            Braund, Mr. Owen Harris    male  22.0      1   \n",
       "1  Cumings, Mrs. John Bradley (Florence Briggs Th...  female  38.0      1   \n",
       "2                             Heikkinen, Miss. Laina  female  26.0      0   \n",
       "3       Futrelle, Mrs. Jacques Heath (Lily May Peel)  female  35.0      1   \n",
       "4                           Allen, Mr. William Henry    male  35.0      0   \n",
       "\n",
       "   Parch            Ticket     Fare Cabin Embarked  \n",
       "0      0         A/5 21171   7.2500   NaN        S  \n",
       "1      0          PC 17599  71.2833   C85        C  \n",
       "2      0  STON/O2. 3101282   7.9250   NaN        S  \n",
       "3      0            113803  53.1000  C123        S  \n",
       "4      0            373450   8.0500   NaN        S  "
      ]
     },
     "execution_count": 28,
     "metadata": {},
     "output_type": "execute_result"
    }
   ],
   "source": [
    "train.head()"
   ]
  },
  {
   "cell_type": "code",
   "execution_count": 29,
   "metadata": {
    "execution": {
     "iopub.execute_input": "2021-07-30T07:10:35.084624Z",
     "iopub.status.busy": "2021-07-30T07:10:35.084289Z",
     "iopub.status.idle": "2021-07-30T07:10:35.101472Z",
     "shell.execute_reply": "2021-07-30T07:10:35.100321Z",
     "shell.execute_reply.started": "2021-07-30T07:10:35.084595Z"
    }
   },
   "outputs": [
    {
     "name": "stdout",
     "output_type": "stream",
     "text": [
      "<class 'pandas.core.frame.DataFrame'>\n",
      "RangeIndex: 891 entries, 0 to 890\n",
      "Data columns (total 12 columns):\n",
      " #   Column       Non-Null Count  Dtype  \n",
      "---  ------       --------------  -----  \n",
      " 0   PassengerId  891 non-null    int64  \n",
      " 1   Survived     891 non-null    int64  \n",
      " 2   Pclass       891 non-null    int64  \n",
      " 3   Name         891 non-null    object \n",
      " 4   Sex          891 non-null    object \n",
      " 5   Age          714 non-null    float64\n",
      " 6   SibSp        891 non-null    int64  \n",
      " 7   Parch        891 non-null    int64  \n",
      " 8   Ticket       891 non-null    object \n",
      " 9   Fare         891 non-null    float64\n",
      " 10  Cabin        204 non-null    object \n",
      " 11  Embarked     889 non-null    object \n",
      "dtypes: float64(2), int64(5), object(5)\n",
      "memory usage: 83.7+ KB\n"
     ]
    }
   ],
   "source": [
    "train.info()"
   ]
  },
  {
   "cell_type": "code",
   "execution_count": 30,
   "metadata": {
    "execution": {
     "iopub.execute_input": "2021-07-30T07:11:09.673211Z",
     "iopub.status.busy": "2021-07-30T07:11:09.672849Z",
     "iopub.status.idle": "2021-07-30T07:11:09.679866Z",
     "shell.execute_reply": "2021-07-30T07:11:09.679116Z",
     "shell.execute_reply.started": "2021-07-30T07:11:09.673153Z"
    }
   },
   "outputs": [],
   "source": [
    "# PassengerId has unique values\n",
    "train.drop('PassengerId',axis=1,inplace=True)\n",
    "test.drop('PassengerId',axis=1,inplace=True)"
   ]
  },
  {
   "cell_type": "markdown",
   "metadata": {},
   "source": [
    "# Data Exploration"
   ]
  },
  {
   "cell_type": "code",
   "execution_count": 31,
   "metadata": {
    "execution": {
     "iopub.execute_input": "2021-07-30T07:11:12.530110Z",
     "iopub.status.busy": "2021-07-30T07:11:12.529565Z",
     "iopub.status.idle": "2021-07-30T07:11:12.535077Z",
     "shell.execute_reply": "2021-07-30T07:11:12.533981Z",
     "shell.execute_reply.started": "2021-07-30T07:11:12.530056Z"
    }
   },
   "outputs": [],
   "source": [
    "continuous_features = ['Age','Fare']\n",
    "categorical_features = ['Pclass','Sex','SibSp','Parch','Embarked','Survived']"
   ]
  },
  {
   "cell_type": "code",
   "execution_count": 53,
   "metadata": {
    "execution": {
     "iopub.execute_input": "2021-07-30T07:16:44.649187Z",
     "iopub.status.busy": "2021-07-30T07:16:44.648799Z",
     "iopub.status.idle": "2021-07-30T07:16:45.050292Z",
     "shell.execute_reply": "2021-07-30T07:16:45.049239Z",
     "shell.execute_reply.started": "2021-07-30T07:16:44.649141Z"
    }
   },
   "outputs": [
    {
     "data": {
      "image/png": "[encoded data removed]",
      "text/plain": [
       "<Figure size 432x288 with 1 Axes>"
      ]
     },
     "metadata": {
      "needs_background": "light"
     },
     "output_type": "display_data"
    },
    {
     "data": {
      "image/png": "[encoded data removed]",
      "text/plain": [
       "<Figure size 432x288 with 1 Axes>"
      ]
     },
     "metadata": {
      "needs_background": "light"
     },
     "output_type": "display_data"
    }
   ],
   "source": [
    "for feature in continuous_features:\n",
    "    plt.hist(train[feature],bins=25)\n",
    "    plt.xlabel(feature)\n",
    "    plt.ylabel('Count')\n",
    "    plt.title(feature)\n",
    "    plt.show()"
   ]
  },
  {
   "cell_type": "code",
   "execution_count": 33,
   "metadata": {
    "execution": {
     "iopub.execute_input": "2021-07-30T07:11:14.766086Z",
     "iopub.status.busy": "2021-07-30T07:11:14.765614Z",
     "iopub.status.idle": "2021-07-30T07:11:15.768469Z",
     "shell.execute_reply": "2021-07-30T07:11:15.767421Z",
     "shell.execute_reply.started": "2021-07-30T07:11:14.766042Z"
    }
   },
   "outputs": [
    {
     "data": {
      "image/png": "[encoded data removed]",
      "text/plain": [
       "<Figure size 432x288 with 1 Axes>"
      ]
     },
     "metadata": {
      "needs_background": "light"
     },
     "output_type": "display_data"
    },
    {
     "data": {
      "image/png": "[encoded data removed]",
      "text/plain": [
       "<Figure size 432x288 with 1 Axes>"
      ]
     },
     "metadata": {
      "needs_background": "light"
     },
     "output_type": "display_data"
    },
    {
     "data": {
      "image/png": "[encoded data removed]",
      "text/plain": [
       "<Figure size 432x288 with 1 Axes>"
      ]
     },
     "metadata": {
      "needs_background": "light"
     },
     "output_type": "display_data"
    },
    {
     "data": {
      "image/png": "[encoded data removed]",
      "text/plain": [
       "<Figure size 432x288 with 1 Axes>"
      ]
     },
     "metadata": {
      "needs_background": "light"
     },
     "output_type": "display_data"
    },
    {
     "data": {
      "image/png": "[encoded data removed]",
      "text/plain": [
       "<Figure size 432x288 with 1 Axes>"
      ]
     },
     "metadata": {
      "needs_background": "light"
     },
     "output_type": "display_data"
    },
    {
     "data": {
      "image/png": "[encoded data removed]",
      "text/plain": [
       "<Figure size 432x288 with 1 Axes>"
      ]
     },
     "metadata": {
      "needs_background": "light"
     },
     "output_type": "display_data"
    }
   ],
   "source": [
    "for feature in categorical_features:\n",
    "    sns.barplot(x=train[feature].value_counts().index,y=train[feature].value_counts())\n",
    "    plt.show()"
   ]
  },
  {
   "cell_type": "markdown",
   "metadata": {},
   "source": [
    "# Handle Numeric Data"
   ]
  },
  {
   "cell_type": "code",
   "execution_count": 34,
   "metadata": {
    "execution": {
     "iopub.execute_input": "2021-07-30T07:11:18.144898Z",
     "iopub.status.busy": "2021-07-30T07:11:18.144548Z",
     "iopub.status.idle": "2021-07-30T07:11:18.151513Z",
     "shell.execute_reply": "2021-07-30T07:11:18.150522Z",
     "shell.execute_reply.started": "2021-07-30T07:11:18.144868Z"
    }
   },
   "outputs": [],
   "source": [
    "train['label'] = 1\n",
    "test['label'] = 0"
   ]
  },
  {
   "cell_type": "code",
   "execution_count": 54,
   "metadata": {
    "execution": {
     "iopub.execute_input": "2021-07-30T07:17:00.100996Z",
     "iopub.status.busy": "2021-07-30T07:17:00.100624Z",
     "iopub.status.idle": "2021-07-30T07:17:00.125142Z",
     "shell.execute_reply": "2021-07-30T07:17:00.124086Z",
     "shell.execute_reply.started": "2021-07-30T07:17:00.100964Z"
    }
   },
   "outputs": [
    {
     "data": {
      "text/html": [
       "<div>\n",
       "<style scoped>\n",
       "    .dataframe tbody tr th:only-of-type {\n",
       "        vertical-align: middle;\n",
       "    }\n",
       "\n",
       "    .dataframe tbody tr th {\n",
       "        vertical-align: top;\n",
       "    }\n",
       "\n",
       "    .dataframe thead th {\n",
       "        text-align: right;\n",
       "    }\n",
       "</style>\n",
       "<table border=\"1\" class=\"dataframe\">\n",
       "  <thead>\n",
       "    <tr style=\"text-align: right;\">\n",
       "      <th></th>\n",
       "      <th>Survived</th>\n",
       "      <th>Pclass</th>\n",
       "      <th>Name</th>\n",
       "      <th>Sex</th>\n",
       "      <th>Age</th>\n",
       "      <th>SibSp</th>\n",
       "      <th>Parch</th>\n",
       "      <th>Ticket</th>\n",
       "      <th>Fare</th>\n",
       "      <th>Cabin</th>\n",
       "      <th>Embarked</th>\n",
       "      <th>label</th>\n",
       "    </tr>\n",
       "  </thead>\n",
       "  <tbody>\n",
       "    <tr>\n",
       "      <th>0</th>\n",
       "      <td>0.0</td>\n",
       "      <td>3</td>\n",
       "      <td>Braund, Mr. Owen Harris</td>\n",
       "      <td>male</td>\n",
       "      <td>22.0</td>\n",
       "      <td>1</td>\n",
       "      <td>0</td>\n",
       "      <td>A/5 21171</td>\n",
       "      <td>7.2500</td>\n",
       "      <td>NaN</td>\n",
       "      <td>S</td>\n",
       "      <td>1</td>\n",
       "    </tr>\n",
       "    <tr>\n",
       "      <th>1</th>\n",
       "      <td>1.0</td>\n",
       "      <td>1</td>\n",
       "      <td>Cumings, Mrs. John Bradley (Florence Briggs Th...</td>\n",
       "      <td>female</td>\n",
       "      <td>38.0</td>\n",
       "      <td>1</td>\n",
       "      <td>0</td>\n",
       "      <td>PC 17599</td>\n",
       "      <td>71.2833</td>\n",
       "      <td>C85</td>\n",
       "      <td>C</td>\n",
       "      <td>1</td>\n",
       "    </tr>\n",
       "    <tr>\n",
       "      <th>2</th>\n",
       "      <td>1.0</td>\n",
       "      <td>3</td>\n",
       "      <td>Heikkinen, Miss. Laina</td>\n",
       "      <td>female</td>\n",
       "      <td>26.0</td>\n",
       "      <td>0</td>\n",
       "      <td>0</td>\n",
       "      <td>STON/O2. 3101282</td>\n",
       "      <td>7.9250</td>\n",
       "      <td>NaN</td>\n",
       "      <td>S</td>\n",
       "      <td>1</td>\n",
       "    </tr>\n",
       "    <tr>\n",
       "      <th>3</th>\n",
       "      <td>1.0</td>\n",
       "      <td>1</td>\n",
       "      <td>Futrelle, Mrs. Jacques Heath (Lily May Peel)</td>\n",
       "      <td>female</td>\n",
       "      <td>35.0</td>\n",
       "      <td>1</td>\n",
       "      <td>0</td>\n",
       "      <td>113803</td>\n",
       "      <td>53.1000</td>\n",
       "      <td>C123</td>\n",
       "      <td>S</td>\n",
       "      <td>1</td>\n",
       "    </tr>\n",
       "    <tr>\n",
       "      <th>4</th>\n",
       "      <td>0.0</td>\n",
       "      <td>3</td>\n",
       "      <td>Allen, Mr. William Henry</td>\n",
       "      <td>male</td>\n",
       "      <td>35.0</td>\n",
       "      <td>0</td>\n",
       "      <td>0</td>\n",
       "      <td>373450</td>\n",
       "      <td>8.0500</td>\n",
       "      <td>NaN</td>\n",
       "      <td>S</td>\n",
       "      <td>1</td>\n",
       "    </tr>\n",
       "  </tbody>\n",
       "</table>\n",
       "</div>"
      ],
      "text/plain": [
       "   Survived  Pclass                                               Name  \\\n",
       "0       0.0       3                            Braund, Mr. Owen Harris   \n",
       "1       1.0       1  Cumings, Mrs. John Bradley (Florence Briggs Th...   \n",
       "2       1.0       3                             Heikkinen, Miss. Laina   \n",
       "3       1.0       1       Futrelle, Mrs. Jacques Heath (Lily May Peel)   \n",
       "4       0.0       3                           Allen, Mr. William Henry   \n",
       "\n",
       "      Sex   Age  SibSp  Parch            Ticket     Fare Cabin Embarked  label  \n",
       "0    male  22.0      1      0         A/5 21171   7.2500   NaN        S      1  \n",
       "1  female  38.0      1      0          PC 17599  71.2833   C85        C      1  \n",
       "2  female  26.0      0      0  STON/O2. 3101282   7.9250   NaN        S      1  \n",
       "3  female  35.0      1      0            113803  53.1000  C123        S      1  \n",
       "4    male  35.0      0      0            373450   8.0500   NaN        S      1  "
      ]
     },
     "execution_count": 54,
     "metadata": {},
     "output_type": "execute_result"
    }
   ],
   "source": [
    "data = pd.concat((train,test),axis=0,ignore_index=True).copy()\n",
    "data.head()"
   ]
  },
  {
   "cell_type": "code",
   "execution_count": 55,
   "metadata": {
    "execution": {
     "iopub.execute_input": "2021-07-30T07:17:01.524353Z",
     "iopub.status.busy": "2021-07-30T07:17:01.523746Z",
     "iopub.status.idle": "2021-07-30T07:17:01.534400Z",
     "shell.execute_reply": "2021-07-30T07:17:01.533200Z",
     "shell.execute_reply.started": "2021-07-30T07:17:01.524297Z"
    }
   },
   "outputs": [],
   "source": [
    "# apply log transform on Fare feature to minimize the skewness\n",
    "data['Fare'] = data['Fare'].apply(lambda x: np.log(x+1))"
   ]
  },
  {
   "cell_type": "code",
   "execution_count": 56,
   "metadata": {
    "execution": {
     "iopub.execute_input": "2021-07-30T07:17:03.308617Z",
     "iopub.status.busy": "2021-07-30T07:17:03.308242Z",
     "iopub.status.idle": "2021-07-30T07:17:03.498440Z",
     "shell.execute_reply": "2021-07-30T07:17:03.497335Z",
     "shell.execute_reply.started": "2021-07-30T07:17:03.308586Z"
    }
   },
   "outputs": [
    {
     "data": {
      "text/plain": [
       "<AxesSubplot:>"
      ]
     },
     "execution_count": 56,
     "metadata": {},
     "output_type": "execute_result"
    },
    {
     "data": {
      "image/png": "[encoded data removed]",
      "text/plain": [
       "<Figure size 432x288 with 1 Axes>"
      ]
     },
     "metadata": {
      "needs_background": "light"
     },
     "output_type": "display_data"
    }
   ],
   "source": [
    "data['Fare'].hist()"
   ]
  },
  {
   "cell_type": "markdown",
   "metadata": {},
   "source": [
    "# Handle Missing Values"
   ]
  },
  {
   "cell_type": "code",
   "execution_count": 57,
   "metadata": {
    "execution": {
     "iopub.execute_input": "2021-07-30T07:17:12.816785Z",
     "iopub.status.busy": "2021-07-30T07:17:12.816412Z",
     "iopub.status.idle": "2021-07-30T07:17:12.823805Z",
     "shell.execute_reply": "2021-07-30T07:17:12.822667Z",
     "shell.execute_reply.started": "2021-07-30T07:17:12.816748Z"
    }
   },
   "outputs": [],
   "source": [
    "# filling the null values with mean and median values\n",
    "data['Age'] = data['Age'].fillna(train['Age'].mean())\n",
    "data['Fare'] = data['Fare'].fillna(train['Fare'].median())"
   ]
  },
  {
   "cell_type": "code",
   "execution_count": 58,
   "metadata": {
    "execution": {
     "iopub.execute_input": "2021-07-30T07:17:14.131507Z",
     "iopub.status.busy": "2021-07-30T07:17:14.131113Z",
     "iopub.status.idle": "2021-07-30T07:17:14.142865Z",
     "shell.execute_reply": "2021-07-30T07:17:14.141824Z",
     "shell.execute_reply.started": "2021-07-30T07:17:14.131474Z"
    }
   },
   "outputs": [
    {
     "data": {
      "text/plain": [
       "Survived     418\n",
       "Pclass         0\n",
       "Name           0\n",
       "Sex            0\n",
       "Age            0\n",
       "SibSp          0\n",
       "Parch          0\n",
       "Ticket         0\n",
       "Fare           0\n",
       "Cabin       1014\n",
       "Embarked       2\n",
       "label          0\n",
       "dtype: int64"
      ]
     },
     "execution_count": 58,
     "metadata": {},
     "output_type": "execute_result"
    }
   ],
   "source": [
    "data.isnull().sum()"
   ]
  },
  {
   "cell_type": "code",
   "execution_count": 59,
   "metadata": {
    "execution": {
     "iopub.execute_input": "2021-07-30T07:17:25.114189Z",
     "iopub.status.busy": "2021-07-30T07:17:25.113799Z",
     "iopub.status.idle": "2021-07-30T07:17:25.143375Z",
     "shell.execute_reply": "2021-07-30T07:17:25.142387Z",
     "shell.execute_reply.started": "2021-07-30T07:17:25.114141Z"
    }
   },
   "outputs": [],
   "source": [
    "data.dropna(subset=['Embarked'],inplace=True)"
   ]
  },
  {
   "cell_type": "markdown",
   "metadata": {},
   "source": [
    "# Feature Engineering"
   ]
  },
  {
   "cell_type": "code",
   "execution_count": 60,
   "metadata": {
    "execution": {
     "iopub.execute_input": "2021-07-30T07:17:41.354552Z",
     "iopub.status.busy": "2021-07-30T07:17:41.354119Z",
     "iopub.status.idle": "2021-07-30T07:17:41.380180Z",
     "shell.execute_reply": "2021-07-30T07:17:41.378853Z",
     "shell.execute_reply.started": "2021-07-30T07:17:41.354512Z"
    }
   },
   "outputs": [
    {
     "data": {
      "text/html": [
       "<div>\n",
       "<style scoped>\n",
       "    .dataframe tbody tr th:only-of-type {\n",
       "        vertical-align: middle;\n",
       "    }\n",
       "\n",
       "    .dataframe tbody tr th {\n",
       "        vertical-align: top;\n",
       "    }\n",
       "\n",
       "    .dataframe thead th {\n",
       "        text-align: right;\n",
       "    }\n",
       "</style>\n",
       "<table border=\"1\" class=\"dataframe\">\n",
       "  <thead>\n",
       "    <tr style=\"text-align: right;\">\n",
       "      <th></th>\n",
       "      <th>Survived</th>\n",
       "      <th>Pclass</th>\n",
       "      <th>Name</th>\n",
       "      <th>Sex</th>\n",
       "      <th>Age</th>\n",
       "      <th>SibSp</th>\n",
       "      <th>Parch</th>\n",
       "      <th>Ticket</th>\n",
       "      <th>Fare</th>\n",
       "      <th>Cabin</th>\n",
       "      <th>Embarked</th>\n",
       "      <th>label</th>\n",
       "    </tr>\n",
       "  </thead>\n",
       "  <tbody>\n",
       "    <tr>\n",
       "      <th>0</th>\n",
       "      <td>0.0</td>\n",
       "      <td>3</td>\n",
       "      <td>Braund, Mr. Owen Harris</td>\n",
       "      <td>male</td>\n",
       "      <td>22.0</td>\n",
       "      <td>1</td>\n",
       "      <td>0</td>\n",
       "      <td>A/5 21171</td>\n",
       "      <td>2.110213</td>\n",
       "      <td>NaN</td>\n",
       "      <td>S</td>\n",
       "      <td>1</td>\n",
       "    </tr>\n",
       "    <tr>\n",
       "      <th>1</th>\n",
       "      <td>1.0</td>\n",
       "      <td>1</td>\n",
       "      <td>Cumings, Mrs. John Bradley (Florence Briggs Th...</td>\n",
       "      <td>female</td>\n",
       "      <td>38.0</td>\n",
       "      <td>1</td>\n",
       "      <td>0</td>\n",
       "      <td>PC 17599</td>\n",
       "      <td>4.280593</td>\n",
       "      <td>C85</td>\n",
       "      <td>C</td>\n",
       "      <td>1</td>\n",
       "    </tr>\n",
       "    <tr>\n",
       "      <th>2</th>\n",
       "      <td>1.0</td>\n",
       "      <td>3</td>\n",
       "      <td>Heikkinen, Miss. Laina</td>\n",
       "      <td>female</td>\n",
       "      <td>26.0</td>\n",
       "      <td>0</td>\n",
       "      <td>0</td>\n",
       "      <td>STON/O2. 3101282</td>\n",
       "      <td>2.188856</td>\n",
       "      <td>NaN</td>\n",
       "      <td>S</td>\n",
       "      <td>1</td>\n",
       "    </tr>\n",
       "    <tr>\n",
       "      <th>3</th>\n",
       "      <td>1.0</td>\n",
       "      <td>1</td>\n",
       "      <td>Futrelle, Mrs. Jacques Heath (Lily May Peel)</td>\n",
       "      <td>female</td>\n",
       "      <td>35.0</td>\n",
       "      <td>1</td>\n",
       "      <td>0</td>\n",
       "      <td>113803</td>\n",
       "      <td>3.990834</td>\n",
       "      <td>C123</td>\n",
       "      <td>S</td>\n",
       "      <td>1</td>\n",
       "    </tr>\n",
       "    <tr>\n",
       "      <th>4</th>\n",
       "      <td>0.0</td>\n",
       "      <td>3</td>\n",
       "      <td>Allen, Mr. William Henry</td>\n",
       "      <td>male</td>\n",
       "      <td>35.0</td>\n",
       "      <td>0</td>\n",
       "      <td>0</td>\n",
       "      <td>373450</td>\n",
       "      <td>2.202765</td>\n",
       "      <td>NaN</td>\n",
       "      <td>S</td>\n",
       "      <td>1</td>\n",
       "    </tr>\n",
       "  </tbody>\n",
       "</table>\n",
       "</div>"
      ],
      "text/plain": [
       "   Survived  Pclass                                               Name  \\\n",
       "0       0.0       3                            Braund, Mr. Owen Harris   \n",
       "1       1.0       1  Cumings, Mrs. John Bradley (Florence Briggs Th...   \n",
       "2       1.0       3                             Heikkinen, Miss. Laina   \n",
       "3       1.0       1       Futrelle, Mrs. Jacques Heath (Lily May Peel)   \n",
       "4       0.0       3                           Allen, Mr. William Henry   \n",
       "\n",
       "      Sex   Age  SibSp  Parch            Ticket      Fare Cabin Embarked  \\\n",
       "0    male  22.0      1      0         A/5 21171  2.110213   NaN        S   \n",
       "1  female  38.0      1      0          PC 17599  4.280593   C85        C   \n",
       "2  female  26.0      0      0  STON/O2. 3101282  2.188856   NaN        S   \n",
       "3  female  35.0      1      0            113803  3.990834  C123        S   \n",
       "4    male  35.0      0      0            373450  2.202765   NaN        S   \n",
       "\n",
       "   label  \n",
       "0      1  \n",
       "1      1  \n",
       "2      1  \n",
       "3      1  \n",
       "4      1  "
      ]
     },
     "execution_count": 60,
     "metadata": {},
     "output_type": "execute_result"
    }
   ],
   "source": [
    "data.head()"
   ]
  },
  {
   "cell_type": "code",
   "execution_count": 61,
   "metadata": {
    "execution": {
     "iopub.execute_input": "2021-07-30T07:18:01.497615Z",
     "iopub.status.busy": "2021-07-30T07:18:01.497259Z",
     "iopub.status.idle": "2021-07-30T07:18:01.506618Z",
     "shell.execute_reply": "2021-07-30T07:18:01.505621Z",
     "shell.execute_reply.started": "2021-07-30T07:18:01.497581Z"
    }
   },
   "outputs": [],
   "source": [
    "# Extracting name_title from the name feature\n",
    "data['name_title'] = data['Name'].apply(lambda x: x.split(',')[1].split('.')[0].strip())"
   ]
  },
  {
   "cell_type": "code",
   "execution_count": 62,
   "metadata": {
    "execution": {
     "iopub.execute_input": "2021-07-30T07:18:08.955907Z",
     "iopub.status.busy": "2021-07-30T07:18:08.955503Z",
     "iopub.status.idle": "2021-07-30T07:18:08.963797Z",
     "shell.execute_reply": "2021-07-30T07:18:08.962325Z",
     "shell.execute_reply.started": "2021-07-30T07:18:08.955873Z"
    }
   },
   "outputs": [],
   "source": [
    "# deriving numeric tickets\n",
    "data['numeric_tickets'] = data['Ticket'].apply(lambda x: 1 if x.isnumeric() else 0)"
   ]
  },
  {
   "cell_type": "code",
   "execution_count": 64,
   "metadata": {
    "execution": {
     "iopub.execute_input": "2021-07-30T07:18:27.105652Z",
     "iopub.status.busy": "2021-07-30T07:18:27.105272Z",
     "iopub.status.idle": "2021-07-30T07:18:27.114005Z",
     "shell.execute_reply": "2021-07-30T07:18:27.112806Z",
     "shell.execute_reply.started": "2021-07-30T07:18:27.105617Z"
    }
   },
   "outputs": [],
   "source": [
    "# extracting the count of cabins for each passenger\n",
    "data['cabin_multiple'] = data['Cabin'].apply(lambda x: 0 if pd.isna(x) else len(x.split(' ')))"
   ]
  },
  {
   "cell_type": "code",
   "execution_count": 66,
   "metadata": {
    "execution": {
     "iopub.execute_input": "2021-07-30T07:18:35.655528Z",
     "iopub.status.busy": "2021-07-30T07:18:35.654993Z",
     "iopub.status.idle": "2021-07-30T07:18:35.662735Z",
     "shell.execute_reply": "2021-07-30T07:18:35.661990Z",
     "shell.execute_reply.started": "2021-07-30T07:18:35.655491Z"
    }
   },
   "outputs": [],
   "source": [
    "data.drop(['Name','Ticket','Cabin'],axis=1,inplace=True)"
   ]
  },
  {
   "cell_type": "code",
   "execution_count": 132,
   "metadata": {
    "execution": {
     "iopub.execute_input": "2021-07-30T07:45:25.055281Z",
     "iopub.status.busy": "2021-07-30T07:45:25.054906Z",
     "iopub.status.idle": "2021-07-30T07:45:25.074529Z",
     "shell.execute_reply": "2021-07-30T07:45:25.073386Z",
     "shell.execute_reply.started": "2021-07-30T07:45:25.055247Z"
    }
   },
   "outputs": [
    {
     "data": {
      "text/html": [
       "<div>\n",
       "<style scoped>\n",
       "    .dataframe tbody tr th:only-of-type {\n",
       "        vertical-align: middle;\n",
       "    }\n",
       "\n",
       "    .dataframe tbody tr th {\n",
       "        vertical-align: top;\n",
       "    }\n",
       "\n",
       "    .dataframe thead th {\n",
       "        text-align: right;\n",
       "    }\n",
       "</style>\n",
       "<table border=\"1\" class=\"dataframe\">\n",
       "  <thead>\n",
       "    <tr style=\"text-align: right;\">\n",
       "      <th></th>\n",
       "      <th>Survived</th>\n",
       "      <th>Pclass</th>\n",
       "      <th>Sex</th>\n",
       "      <th>Age</th>\n",
       "      <th>SibSp</th>\n",
       "      <th>Parch</th>\n",
       "      <th>Fare</th>\n",
       "      <th>Embarked</th>\n",
       "      <th>label</th>\n",
       "      <th>name_title</th>\n",
       "      <th>numeric_tickets</th>\n",
       "      <th>cabin_multiple</th>\n",
       "    </tr>\n",
       "  </thead>\n",
       "  <tbody>\n",
       "    <tr>\n",
       "      <th>0</th>\n",
       "      <td>0.0</td>\n",
       "      <td>3</td>\n",
       "      <td>male</td>\n",
       "      <td>22.0</td>\n",
       "      <td>1</td>\n",
       "      <td>0</td>\n",
       "      <td>2.110213</td>\n",
       "      <td>S</td>\n",
       "      <td>1</td>\n",
       "      <td>Mr</td>\n",
       "      <td>0</td>\n",
       "      <td>0</td>\n",
       "    </tr>\n",
       "    <tr>\n",
       "      <th>1</th>\n",
       "      <td>1.0</td>\n",
       "      <td>1</td>\n",
       "      <td>female</td>\n",
       "      <td>38.0</td>\n",
       "      <td>1</td>\n",
       "      <td>0</td>\n",
       "      <td>4.280593</td>\n",
       "      <td>C</td>\n",
       "      <td>1</td>\n",
       "      <td>Mrs</td>\n",
       "      <td>0</td>\n",
       "      <td>1</td>\n",
       "    </tr>\n",
       "    <tr>\n",
       "      <th>2</th>\n",
       "      <td>1.0</td>\n",
       "      <td>3</td>\n",
       "      <td>female</td>\n",
       "      <td>26.0</td>\n",
       "      <td>0</td>\n",
       "      <td>0</td>\n",
       "      <td>2.188856</td>\n",
       "      <td>S</td>\n",
       "      <td>1</td>\n",
       "      <td>Miss</td>\n",
       "      <td>0</td>\n",
       "      <td>0</td>\n",
       "    </tr>\n",
       "    <tr>\n",
       "      <th>3</th>\n",
       "      <td>1.0</td>\n",
       "      <td>1</td>\n",
       "      <td>female</td>\n",
       "      <td>35.0</td>\n",
       "      <td>1</td>\n",
       "      <td>0</td>\n",
       "      <td>3.990834</td>\n",
       "      <td>S</td>\n",
       "      <td>1</td>\n",
       "      <td>Mrs</td>\n",
       "      <td>1</td>\n",
       "      <td>1</td>\n",
       "    </tr>\n",
       "    <tr>\n",
       "      <th>4</th>\n",
       "      <td>0.0</td>\n",
       "      <td>3</td>\n",
       "      <td>male</td>\n",
       "      <td>35.0</td>\n",
       "      <td>0</td>\n",
       "      <td>0</td>\n",
       "      <td>2.202765</td>\n",
       "      <td>S</td>\n",
       "      <td>1</td>\n",
       "      <td>Mr</td>\n",
       "      <td>1</td>\n",
       "      <td>0</td>\n",
       "    </tr>\n",
       "  </tbody>\n",
       "</table>\n",
       "</div>"
      ],
      "text/plain": [
       "   Survived  Pclass     Sex   Age  SibSp  Parch      Fare Embarked  label  \\\n",
       "0       0.0       3    male  22.0      1      0  2.110213        S      1   \n",
       "1       1.0       1  female  38.0      1      0  4.280593        C      1   \n",
       "2       1.0       3  female  26.0      0      0  2.188856        S      1   \n",
       "3       1.0       1  female  35.0      1      0  3.990834        S      1   \n",
       "4       0.0       3    male  35.0      0      0  2.202765        S      1   \n",
       "\n",
       "  name_title  numeric_tickets  cabin_multiple  \n",
       "0         Mr                0               0  \n",
       "1        Mrs                0               1  \n",
       "2       Miss                0               0  \n",
       "3        Mrs                1               1  \n",
       "4         Mr                1               0  "
      ]
     },
     "execution_count": 132,
     "metadata": {},
     "output_type": "execute_result"
    }
   ],
   "source": [
    "data.head()"
   ]
  },
  {
   "cell_type": "markdown",
   "metadata": {},
   "source": [
    "## Handling Categorical Features"
   ]
  },
  {
   "cell_type": "code",
   "execution_count": 133,
   "metadata": {
    "execution": {
     "iopub.execute_input": "2021-07-30T07:45:27.726403Z",
     "iopub.status.busy": "2021-07-30T07:45:27.726029Z",
     "iopub.status.idle": "2021-07-30T07:45:27.730685Z",
     "shell.execute_reply": "2021-07-30T07:45:27.729919Z",
     "shell.execute_reply.started": "2021-07-30T07:45:27.726373Z"
    }
   },
   "outputs": [],
   "source": [
    "data_mod = data.copy()"
   ]
  },
  {
   "cell_type": "code",
   "execution_count": 134,
   "metadata": {
    "execution": {
     "iopub.execute_input": "2021-07-30T07:45:29.876206Z",
     "iopub.status.busy": "2021-07-30T07:45:29.875683Z",
     "iopub.status.idle": "2021-07-30T07:45:29.885372Z",
     "shell.execute_reply": "2021-07-30T07:45:29.884467Z",
     "shell.execute_reply.started": "2021-07-30T07:45:29.876146Z"
    }
   },
   "outputs": [
    {
     "data": {
      "text/plain": [
       "Mr              757\n",
       "Miss            259\n",
       "Mrs             196\n",
       "Master           61\n",
       "Rev               8\n",
       "Dr                8\n",
       "Col               4\n",
       "Major             2\n",
       "Mlle              2\n",
       "Ms                2\n",
       "the Countess      1\n",
       "Jonkheer          1\n",
       "Dona              1\n",
       "Capt              1\n",
       "Mme               1\n",
       "Sir               1\n",
       "Don               1\n",
       "Lady              1\n",
       "Name: name_title, dtype: int64"
      ]
     },
     "execution_count": 134,
     "metadata": {},
     "output_type": "execute_result"
    }
   ],
   "source": [
    "data_mod['name_title'].value_counts()"
   ]
  },
  {
   "cell_type": "code",
   "execution_count": 135,
   "metadata": {
    "execution": {
     "iopub.execute_input": "2021-07-30T07:45:31.233385Z",
     "iopub.status.busy": "2021-07-30T07:45:31.232675Z",
     "iopub.status.idle": "2021-07-30T07:45:31.244176Z",
     "shell.execute_reply": "2021-07-30T07:45:31.243353Z",
     "shell.execute_reply.started": "2021-07-30T07:45:31.233324Z"
    }
   },
   "outputs": [],
   "source": [
    "# one hot encoding the most frequent name title labels\n",
    "name_labels = ['Mr','Miss','Mrs','Master']\n",
    "for label in  name_labels:\n",
    "    data_mod[label] = np.where(data_mod['name_title']==label,1,0)\n",
    "data_mod.drop('name_title',axis=1,inplace=True)"
   ]
  },
  {
   "cell_type": "code",
   "execution_count": 136,
   "metadata": {
    "execution": {
     "iopub.execute_input": "2021-07-30T07:45:32.359457Z",
     "iopub.status.busy": "2021-07-30T07:45:32.358919Z",
     "iopub.status.idle": "2021-07-30T07:45:32.371011Z",
     "shell.execute_reply": "2021-07-30T07:45:32.370007Z",
     "shell.execute_reply.started": "2021-07-30T07:45:32.359415Z"
    }
   },
   "outputs": [],
   "source": [
    "# One hot encoding the most frequent labels in Parch feature\n",
    "data_mod['Parch_0'] = np.where(data_mod['Parch']==0,1,0)\n",
    "data_mod['Parch_1'] = np.where(data_mod['Parch']==1,1,0)\n",
    "data_mod['Parch_2'] = np.where(data_mod['Parch']==2,1,0)\n",
    "data_mod.drop('Parch',axis=1,inplace=True)"
   ]
  },
  {
   "cell_type": "code",
   "execution_count": 137,
   "metadata": {
    "execution": {
     "iopub.execute_input": "2021-07-30T07:45:34.006382Z",
     "iopub.status.busy": "2021-07-30T07:45:34.006002Z",
     "iopub.status.idle": "2021-07-30T07:45:34.018531Z",
     "shell.execute_reply": "2021-07-30T07:45:34.017418Z",
     "shell.execute_reply.started": "2021-07-30T07:45:34.006349Z"
    }
   },
   "outputs": [],
   "source": [
    "# One hot encoding the most frequent labels in SibSp feature\n",
    "data_mod['SibSp_0'] = np.where(data_mod['SibSp']==0,1,0)\n",
    "data_mod['SibSp_1'] = np.where(data_mod['SibSp']==1,1,0)\n",
    "data_mod.drop('SibSp',axis=1,inplace=True)"
   ]
  },
  {
   "cell_type": "code",
   "execution_count": 139,
   "metadata": {
    "execution": {
     "iopub.execute_input": "2021-07-30T07:47:10.495928Z",
     "iopub.status.busy": "2021-07-30T07:47:10.495381Z",
     "iopub.status.idle": "2021-07-30T07:47:10.504219Z",
     "shell.execute_reply": "2021-07-30T07:47:10.503343Z",
     "shell.execute_reply.started": "2021-07-30T07:47:10.495877Z"
    }
   },
   "outputs": [],
   "source": [
    "# One hot encoding the most frequent labels in cabin_multiple feature\n",
    "data_mod['cabin'] = np.where(data_mod['cabin_multiple']==0,1,0)\n",
    "data_mod.drop('cabin_multiple',axis=1,inplace=True)"
   ]
  },
  {
   "cell_type": "code",
   "execution_count": 140,
   "metadata": {
    "execution": {
     "iopub.execute_input": "2021-07-30T07:47:11.168266Z",
     "iopub.status.busy": "2021-07-30T07:47:11.167705Z",
     "iopub.status.idle": "2021-07-30T07:47:11.187784Z",
     "shell.execute_reply": "2021-07-30T07:47:11.187042Z",
     "shell.execute_reply.started": "2021-07-30T07:47:11.168213Z"
    }
   },
   "outputs": [
    {
     "data": {
      "text/html": [
       "<div>\n",
       "<style scoped>\n",
       "    .dataframe tbody tr th:only-of-type {\n",
       "        vertical-align: middle;\n",
       "    }\n",
       "\n",
       "    .dataframe tbody tr th {\n",
       "        vertical-align: top;\n",
       "    }\n",
       "\n",
       "    .dataframe thead th {\n",
       "        text-align: right;\n",
       "    }\n",
       "</style>\n",
       "<table border=\"1\" class=\"dataframe\">\n",
       "  <thead>\n",
       "    <tr style=\"text-align: right;\">\n",
       "      <th></th>\n",
       "      <th>Survived</th>\n",
       "      <th>Pclass</th>\n",
       "      <th>Sex</th>\n",
       "      <th>Age</th>\n",
       "      <th>Fare</th>\n",
       "      <th>Embarked</th>\n",
       "      <th>label</th>\n",
       "      <th>numeric_tickets</th>\n",
       "      <th>Mr</th>\n",
       "      <th>Miss</th>\n",
       "      <th>Mrs</th>\n",
       "      <th>Master</th>\n",
       "      <th>Parch_0</th>\n",
       "      <th>Parch_1</th>\n",
       "      <th>Parch_2</th>\n",
       "      <th>SibSp_0</th>\n",
       "      <th>SibSp_1</th>\n",
       "      <th>cabin</th>\n",
       "    </tr>\n",
       "  </thead>\n",
       "  <tbody>\n",
       "    <tr>\n",
       "      <th>0</th>\n",
       "      <td>0.0</td>\n",
       "      <td>3</td>\n",
       "      <td>male</td>\n",
       "      <td>22.0</td>\n",
       "      <td>2.110213</td>\n",
       "      <td>S</td>\n",
       "      <td>1</td>\n",
       "      <td>0</td>\n",
       "      <td>1</td>\n",
       "      <td>0</td>\n",
       "      <td>0</td>\n",
       "      <td>0</td>\n",
       "      <td>1</td>\n",
       "      <td>0</td>\n",
       "      <td>0</td>\n",
       "      <td>0</td>\n",
       "      <td>1</td>\n",
       "      <td>1</td>\n",
       "    </tr>\n",
       "    <tr>\n",
       "      <th>1</th>\n",
       "      <td>1.0</td>\n",
       "      <td>1</td>\n",
       "      <td>female</td>\n",
       "      <td>38.0</td>\n",
       "      <td>4.280593</td>\n",
       "      <td>C</td>\n",
       "      <td>1</td>\n",
       "      <td>0</td>\n",
       "      <td>0</td>\n",
       "      <td>0</td>\n",
       "      <td>1</td>\n",
       "      <td>0</td>\n",
       "      <td>1</td>\n",
       "      <td>0</td>\n",
       "      <td>0</td>\n",
       "      <td>0</td>\n",
       "      <td>1</td>\n",
       "      <td>0</td>\n",
       "    </tr>\n",
       "    <tr>\n",
       "      <th>2</th>\n",
       "      <td>1.0</td>\n",
       "      <td>3</td>\n",
       "      <td>female</td>\n",
       "      <td>26.0</td>\n",
       "      <td>2.188856</td>\n",
       "      <td>S</td>\n",
       "      <td>1</td>\n",
       "      <td>0</td>\n",
       "      <td>0</td>\n",
       "      <td>1</td>\n",
       "      <td>0</td>\n",
       "      <td>0</td>\n",
       "      <td>1</td>\n",
       "      <td>0</td>\n",
       "      <td>0</td>\n",
       "      <td>1</td>\n",
       "      <td>0</td>\n",
       "      <td>1</td>\n",
       "    </tr>\n",
       "    <tr>\n",
       "      <th>3</th>\n",
       "      <td>1.0</td>\n",
       "      <td>1</td>\n",
       "      <td>female</td>\n",
       "      <td>35.0</td>\n",
       "      <td>3.990834</td>\n",
       "      <td>S</td>\n",
       "      <td>1</td>\n",
       "      <td>1</td>\n",
       "      <td>0</td>\n",
       "      <td>0</td>\n",
       "      <td>1</td>\n",
       "      <td>0</td>\n",
       "      <td>1</td>\n",
       "      <td>0</td>\n",
       "      <td>0</td>\n",
       "      <td>0</td>\n",
       "      <td>1</td>\n",
       "      <td>0</td>\n",
       "    </tr>\n",
       "    <tr>\n",
       "      <th>4</th>\n",
       "      <td>0.0</td>\n",
       "      <td>3</td>\n",
       "      <td>male</td>\n",
       "      <td>35.0</td>\n",
       "      <td>2.202765</td>\n",
       "      <td>S</td>\n",
       "      <td>1</td>\n",
       "      <td>1</td>\n",
       "      <td>1</td>\n",
       "      <td>0</td>\n",
       "      <td>0</td>\n",
       "      <td>0</td>\n",
       "      <td>1</td>\n",
       "      <td>0</td>\n",
       "      <td>0</td>\n",
       "      <td>1</td>\n",
       "      <td>0</td>\n",
       "      <td>1</td>\n",
       "    </tr>\n",
       "  </tbody>\n",
       "</table>\n",
       "</div>"
      ],
      "text/plain": [
       "   Survived  Pclass     Sex   Age      Fare Embarked  label  numeric_tickets  \\\n",
       "0       0.0       3    male  22.0  2.110213        S      1                0   \n",
       "1       1.0       1  female  38.0  4.280593        C      1                0   \n",
       "2       1.0       3  female  26.0  2.188856        S      1                0   \n",
       "3       1.0       1  female  35.0  3.990834        S      1                1   \n",
       "4       0.0       3    male  35.0  2.202765        S      1                1   \n",
       "\n",
       "   Mr  Miss  Mrs  Master  Parch_0  Parch_1  Parch_2  SibSp_0  SibSp_1  cabin  \n",
       "0   1     0    0       0        1        0        0        0        1      1  \n",
       "1   0     0    1       0        1        0        0        0        1      0  \n",
       "2   0     1    0       0        1        0        0        1        0      1  \n",
       "3   0     0    1       0        1        0        0        0        1      0  \n",
       "4   1     0    0       0        1        0        0        1        0      1  "
      ]
     },
     "execution_count": 140,
     "metadata": {},
     "output_type": "execute_result"
    }
   ],
   "source": [
    "data_mod.head()"
   ]
  },
  {
   "cell_type": "code",
   "execution_count": 141,
   "metadata": {
    "execution": {
     "iopub.execute_input": "2021-07-30T07:48:39.667750Z",
     "iopub.status.busy": "2021-07-30T07:48:39.667186Z",
     "iopub.status.idle": "2021-07-30T07:48:39.672197Z",
     "shell.execute_reply": "2021-07-30T07:48:39.671208Z",
     "shell.execute_reply.started": "2021-07-30T07:48:39.667698Z"
    }
   },
   "outputs": [],
   "source": [
    "df = data_mod.copy()"
   ]
  },
  {
   "cell_type": "code",
   "execution_count": 143,
   "metadata": {
    "execution": {
     "iopub.execute_input": "2021-07-30T07:50:16.125727Z",
     "iopub.status.busy": "2021-07-30T07:50:16.125297Z",
     "iopub.status.idle": "2021-07-30T07:50:16.131814Z",
     "shell.execute_reply": "2021-07-30T07:50:16.130615Z",
     "shell.execute_reply.started": "2021-07-30T07:50:16.125684Z"
    }
   },
   "outputs": [],
   "source": [
    "df['Pclass'] = df['Pclass'].astype('O')"
   ]
  },
  {
   "cell_type": "code",
   "execution_count": 146,
   "metadata": {
    "execution": {
     "iopub.execute_input": "2021-07-30T07:50:56.377720Z",
     "iopub.status.busy": "2021-07-30T07:50:56.377303Z",
     "iopub.status.idle": "2021-07-30T07:50:56.408652Z",
     "shell.execute_reply": "2021-07-30T07:50:56.407657Z",
     "shell.execute_reply.started": "2021-07-30T07:50:56.377681Z"
    }
   },
   "outputs": [
    {
     "data": {
      "text/html": [
       "<div>\n",
       "<style scoped>\n",
       "    .dataframe tbody tr th:only-of-type {\n",
       "        vertical-align: middle;\n",
       "    }\n",
       "\n",
       "    .dataframe tbody tr th {\n",
       "        vertical-align: top;\n",
       "    }\n",
       "\n",
       "    .dataframe thead th {\n",
       "        text-align: right;\n",
       "    }\n",
       "</style>\n",
       "<table border=\"1\" class=\"dataframe\">\n",
       "  <thead>\n",
       "    <tr style=\"text-align: right;\">\n",
       "      <th></th>\n",
       "      <th>Survived</th>\n",
       "      <th>Age</th>\n",
       "      <th>Fare</th>\n",
       "      <th>label</th>\n",
       "      <th>numeric_tickets</th>\n",
       "      <th>Mr</th>\n",
       "      <th>Miss</th>\n",
       "      <th>Mrs</th>\n",
       "      <th>Master</th>\n",
       "      <th>Parch_0</th>\n",
       "      <th>Parch_1</th>\n",
       "      <th>Parch_2</th>\n",
       "      <th>SibSp_0</th>\n",
       "      <th>SibSp_1</th>\n",
       "      <th>cabin</th>\n",
       "      <th>Pclass_2</th>\n",
       "      <th>Pclass_3</th>\n",
       "      <th>Sex_male</th>\n",
       "      <th>Embarked_Q</th>\n",
       "      <th>Embarked_S</th>\n",
       "    </tr>\n",
       "  </thead>\n",
       "  <tbody>\n",
       "    <tr>\n",
       "      <th>0</th>\n",
       "      <td>0.0</td>\n",
       "      <td>22.0</td>\n",
       "      <td>2.110213</td>\n",
       "      <td>1</td>\n",
       "      <td>0</td>\n",
       "      <td>1</td>\n",
       "      <td>0</td>\n",
       "      <td>0</td>\n",
       "      <td>0</td>\n",
       "      <td>1</td>\n",
       "      <td>0</td>\n",
       "      <td>0</td>\n",
       "      <td>0</td>\n",
       "      <td>1</td>\n",
       "      <td>1</td>\n",
       "      <td>0</td>\n",
       "      <td>1</td>\n",
       "      <td>1</td>\n",
       "      <td>0</td>\n",
       "      <td>1</td>\n",
       "    </tr>\n",
       "    <tr>\n",
       "      <th>1</th>\n",
       "      <td>1.0</td>\n",
       "      <td>38.0</td>\n",
       "      <td>4.280593</td>\n",
       "      <td>1</td>\n",
       "      <td>0</td>\n",
       "      <td>0</td>\n",
       "      <td>0</td>\n",
       "      <td>1</td>\n",
       "      <td>0</td>\n",
       "      <td>1</td>\n",
       "      <td>0</td>\n",
       "      <td>0</td>\n",
       "      <td>0</td>\n",
       "      <td>1</td>\n",
       "      <td>0</td>\n",
       "      <td>0</td>\n",
       "      <td>0</td>\n",
       "      <td>0</td>\n",
       "      <td>0</td>\n",
       "      <td>0</td>\n",
       "    </tr>\n",
       "    <tr>\n",
       "      <th>2</th>\n",
       "      <td>1.0</td>\n",
       "      <td>26.0</td>\n",
       "      <td>2.188856</td>\n",
       "      <td>1</td>\n",
       "      <td>0</td>\n",
       "      <td>0</td>\n",
       "      <td>1</td>\n",
       "      <td>0</td>\n",
       "      <td>0</td>\n",
       "      <td>1</td>\n",
       "      <td>0</td>\n",
       "      <td>0</td>\n",
       "      <td>1</td>\n",
       "      <td>0</td>\n",
       "      <td>1</td>\n",
       "      <td>0</td>\n",
       "      <td>1</td>\n",
       "      <td>0</td>\n",
       "      <td>0</td>\n",
       "      <td>1</td>\n",
       "    </tr>\n",
       "    <tr>\n",
       "      <th>3</th>\n",
       "      <td>1.0</td>\n",
       "      <td>35.0</td>\n",
       "      <td>3.990834</td>\n",
       "      <td>1</td>\n",
       "      <td>1</td>\n",
       "      <td>0</td>\n",
       "      <td>0</td>\n",
       "      <td>1</td>\n",
       "      <td>0</td>\n",
       "      <td>1</td>\n",
       "      <td>0</td>\n",
       "      <td>0</td>\n",
       "      <td>0</td>\n",
       "      <td>1</td>\n",
       "      <td>0</td>\n",
       "      <td>0</td>\n",
       "      <td>0</td>\n",
       "      <td>0</td>\n",
       "      <td>0</td>\n",
       "      <td>1</td>\n",
       "    </tr>\n",
       "    <tr>\n",
       "      <th>4</th>\n",
       "      <td>0.0</td>\n",
       "      <td>35.0</td>\n",
       "      <td>2.202765</td>\n",
       "      <td>1</td>\n",
       "      <td>1</td>\n",
       "      <td>1</td>\n",
       "      <td>0</td>\n",
       "      <td>0</td>\n",
       "      <td>0</td>\n",
       "      <td>1</td>\n",
       "      <td>0</td>\n",
       "      <td>0</td>\n",
       "      <td>1</td>\n",
       "      <td>0</td>\n",
       "      <td>1</td>\n",
       "      <td>0</td>\n",
       "      <td>1</td>\n",
       "      <td>1</td>\n",
       "      <td>0</td>\n",
       "      <td>1</td>\n",
       "    </tr>\n",
       "  </tbody>\n",
       "</table>\n",
       "</div>"
      ],
      "text/plain": [
       "   Survived   Age      Fare  label  numeric_tickets  Mr  Miss  Mrs  Master  \\\n",
       "0       0.0  22.0  2.110213      1                0   1     0    0       0   \n",
       "1       1.0  38.0  4.280593      1                0   0     0    1       0   \n",
       "2       1.0  26.0  2.188856      1                0   0     1    0       0   \n",
       "3       1.0  35.0  3.990834      1                1   0     0    1       0   \n",
       "4       0.0  35.0  2.202765      1                1   1     0    0       0   \n",
       "\n",
       "   Parch_0  Parch_1  Parch_2  SibSp_0  SibSp_1  cabin  Pclass_2  Pclass_3  \\\n",
       "0        1        0        0        0        1      1         0         1   \n",
       "1        1        0        0        0        1      0         0         0   \n",
       "2        1        0        0        1        0      1         0         1   \n",
       "3        1        0        0        0        1      0         0         0   \n",
       "4        1        0        0        1        0      1         0         1   \n",
       "\n",
       "   Sex_male  Embarked_Q  Embarked_S  \n",
       "0         1           0           1  \n",
       "1         0           0           0  \n",
       "2         0           0           1  \n",
       "3         0           0           1  \n",
       "4         1           0           1  "
      ]
     },
     "execution_count": 146,
     "metadata": {},
     "output_type": "execute_result"
    }
   ],
   "source": [
    "df = pd.get_dummies(df,drop_first=True)\n",
    "df.head()"
   ]
  },
  {
   "cell_type": "code",
   "execution_count": 147,
   "metadata": {
    "execution": {
     "iopub.execute_input": "2021-07-30T07:51:49.842850Z",
     "iopub.status.busy": "2021-07-30T07:51:49.842491Z",
     "iopub.status.idle": "2021-07-30T07:51:49.856487Z",
     "shell.execute_reply": "2021-07-30T07:51:49.855248Z",
     "shell.execute_reply.started": "2021-07-30T07:51:49.842818Z"
    }
   },
   "outputs": [],
   "source": [
    "xtrain = df[df['label']==1].drop(['Survived','label'],axis=1).copy()\n",
    "ytrain = df[df['label']==1]['Survived'].copy()\n",
    "xtest = df[df['label']==0].drop(['Survived','label'],axis=1).copy()"
   ]
  },
  {
   "cell_type": "code",
   "execution_count": 157,
   "metadata": {
    "execution": {
     "iopub.execute_input": "2021-07-30T07:55:03.675764Z",
     "iopub.status.busy": "2021-07-30T07:55:03.675380Z",
     "iopub.status.idle": "2021-07-30T07:55:03.691647Z",
     "shell.execute_reply": "2021-07-30T07:55:03.690411Z",
     "shell.execute_reply.started": "2021-07-30T07:55:03.675730Z"
    }
   },
   "outputs": [],
   "source": [
    "# Scaling the features\n",
    "from sklearn.preprocessing import StandardScaler\n",
    "scaler = StandardScaler()\n",
    "xtrain_scale = xtrain.copy()\n",
    "xtest_scale = xtest.copy()\n",
    "\n",
    "xtrain_scale = pd.DataFrame(scaler.fit_transform(xtrain),columns=xtrain.columns)\n",
    "xtest_scale = pd.DataFrame(scaler.transform(xtest),columns=xtest.columns)"
   ]
  },
  {
   "cell_type": "markdown",
   "metadata": {},
   "source": [
    "# Feature Selection"
   ]
  },
  {
   "cell_type": "code",
   "execution_count": 158,
   "metadata": {
    "execution": {
     "iopub.execute_input": "2021-07-30T07:55:05.365715Z",
     "iopub.status.busy": "2021-07-30T07:55:05.365200Z",
     "iopub.status.idle": "2021-07-30T07:55:05.369910Z",
     "shell.execute_reply": "2021-07-30T07:55:05.368758Z",
     "shell.execute_reply.started": "2021-07-30T07:55:05.365682Z"
    }
   },
   "outputs": [],
   "source": [
    "from sklearn.feature_selection import SelectKBest,chi2,f_regression"
   ]
  },
  {
   "cell_type": "code",
   "execution_count": 160,
   "metadata": {
    "execution": {
     "iopub.execute_input": "2021-07-30T07:55:09.655249Z",
     "iopub.status.busy": "2021-07-30T07:55:09.654861Z",
     "iopub.status.idle": "2021-07-30T07:55:09.680360Z",
     "shell.execute_reply": "2021-07-30T07:55:09.679273Z",
     "shell.execute_reply.started": "2021-07-30T07:55:09.655211Z"
    }
   },
   "outputs": [
    {
     "data": {
      "text/html": [
       "<div>\n",
       "<style scoped>\n",
       "    .dataframe tbody tr th:only-of-type {\n",
       "        vertical-align: middle;\n",
       "    }\n",
       "\n",
       "    .dataframe tbody tr th {\n",
       "        vertical-align: top;\n",
       "    }\n",
       "\n",
       "    .dataframe thead th {\n",
       "        text-align: right;\n",
       "    }\n",
       "</style>\n",
       "<table border=\"1\" class=\"dataframe\">\n",
       "  <thead>\n",
       "    <tr style=\"text-align: right;\">\n",
       "      <th></th>\n",
       "      <th>Age</th>\n",
       "      <th>Fare</th>\n",
       "      <th>numeric_tickets</th>\n",
       "      <th>Mr</th>\n",
       "      <th>Miss</th>\n",
       "      <th>Mrs</th>\n",
       "      <th>Master</th>\n",
       "      <th>Parch_0</th>\n",
       "      <th>Parch_1</th>\n",
       "      <th>Parch_2</th>\n",
       "      <th>SibSp_0</th>\n",
       "      <th>SibSp_1</th>\n",
       "      <th>cabin</th>\n",
       "      <th>Pclass_2</th>\n",
       "      <th>Pclass_3</th>\n",
       "      <th>Sex_male</th>\n",
       "      <th>Embarked_Q</th>\n",
       "      <th>Embarked_S</th>\n",
       "    </tr>\n",
       "  </thead>\n",
       "  <tbody>\n",
       "    <tr>\n",
       "      <th>0</th>\n",
       "      <td>-0.590495</td>\n",
       "      <td>-0.877591</td>\n",
       "      <td>-1.692695</td>\n",
       "      <td>0.848255</td>\n",
       "      <td>-0.505618</td>\n",
       "      <td>-0.402606</td>\n",
       "      <td>-0.217058</td>\n",
       "      <td>0.561328</td>\n",
       "      <td>-0.391213</td>\n",
       "      <td>-0.314464</td>\n",
       "      <td>-1.463333</td>\n",
       "      <td>1.803771</td>\n",
       "      <td>0.542247</td>\n",
       "      <td>-0.510875</td>\n",
       "      <td>0.900328</td>\n",
       "      <td>0.735342</td>\n",
       "      <td>-0.307941</td>\n",
       "      <td>0.616794</td>\n",
       "    </tr>\n",
       "    <tr>\n",
       "      <th>1</th>\n",
       "      <td>0.643971</td>\n",
       "      <td>1.366380</td>\n",
       "      <td>-1.692695</td>\n",
       "      <td>-1.178891</td>\n",
       "      <td>-0.505618</td>\n",
       "      <td>2.483819</td>\n",
       "      <td>-0.217058</td>\n",
       "      <td>0.561328</td>\n",
       "      <td>-0.391213</td>\n",
       "      <td>-0.314464</td>\n",
       "      <td>-1.463333</td>\n",
       "      <td>1.803771</td>\n",
       "      <td>-1.844177</td>\n",
       "      <td>-0.510875</td>\n",
       "      <td>-1.110706</td>\n",
       "      <td>-1.359911</td>\n",
       "      <td>-0.307941</td>\n",
       "      <td>-1.621287</td>\n",
       "    </tr>\n",
       "    <tr>\n",
       "      <th>2</th>\n",
       "      <td>-0.281878</td>\n",
       "      <td>-0.796281</td>\n",
       "      <td>-1.692695</td>\n",
       "      <td>-1.178891</td>\n",
       "      <td>1.977777</td>\n",
       "      <td>-0.402606</td>\n",
       "      <td>-0.217058</td>\n",
       "      <td>0.561328</td>\n",
       "      <td>-0.391213</td>\n",
       "      <td>-0.314464</td>\n",
       "      <td>0.683372</td>\n",
       "      <td>-0.554394</td>\n",
       "      <td>0.542247</td>\n",
       "      <td>-0.510875</td>\n",
       "      <td>0.900328</td>\n",
       "      <td>-1.359911</td>\n",
       "      <td>-0.307941</td>\n",
       "      <td>0.616794</td>\n",
       "    </tr>\n",
       "    <tr>\n",
       "      <th>3</th>\n",
       "      <td>0.412509</td>\n",
       "      <td>1.066796</td>\n",
       "      <td>0.590774</td>\n",
       "      <td>-1.178891</td>\n",
       "      <td>-0.505618</td>\n",
       "      <td>2.483819</td>\n",
       "      <td>-0.217058</td>\n",
       "      <td>0.561328</td>\n",
       "      <td>-0.391213</td>\n",
       "      <td>-0.314464</td>\n",
       "      <td>-1.463333</td>\n",
       "      <td>1.803771</td>\n",
       "      <td>-1.844177</td>\n",
       "      <td>-0.510875</td>\n",
       "      <td>-1.110706</td>\n",
       "      <td>-1.359911</td>\n",
       "      <td>-0.307941</td>\n",
       "      <td>0.616794</td>\n",
       "    </tr>\n",
       "    <tr>\n",
       "      <th>4</th>\n",
       "      <td>0.412509</td>\n",
       "      <td>-0.781901</td>\n",
       "      <td>0.590774</td>\n",
       "      <td>0.848255</td>\n",
       "      <td>-0.505618</td>\n",
       "      <td>-0.402606</td>\n",
       "      <td>-0.217058</td>\n",
       "      <td>0.561328</td>\n",
       "      <td>-0.391213</td>\n",
       "      <td>-0.314464</td>\n",
       "      <td>0.683372</td>\n",
       "      <td>-0.554394</td>\n",
       "      <td>0.542247</td>\n",
       "      <td>-0.510875</td>\n",
       "      <td>0.900328</td>\n",
       "      <td>0.735342</td>\n",
       "      <td>-0.307941</td>\n",
       "      <td>0.616794</td>\n",
       "    </tr>\n",
       "  </tbody>\n",
       "</table>\n",
       "</div>"
      ],
      "text/plain": [
       "        Age      Fare  numeric_tickets        Mr      Miss       Mrs  \\\n",
       "0 -0.590495 -0.877591        -1.692695  0.848255 -0.505618 -0.402606   \n",
       "1  0.643971  1.366380        -1.692695 -1.178891 -0.505618  2.483819   \n",
       "2 -0.281878 -0.796281        -1.692695 -1.178891  1.977777 -0.402606   \n",
       "3  0.412509  1.066796         0.590774 -1.178891 -0.505618  2.483819   \n",
       "4  0.412509 -0.781901         0.590774  0.848255 -0.505618 -0.402606   \n",
       "\n",
       "     Master   Parch_0   Parch_1   Parch_2   SibSp_0   SibSp_1     cabin  \\\n",
       "0 -0.217058  0.561328 -0.391213 -0.314464 -1.463333  1.803771  0.542247   \n",
       "1 -0.217058  0.561328 -0.391213 -0.314464 -1.463333  1.803771 -1.844177   \n",
       "2 -0.217058  0.561328 -0.391213 -0.314464  0.683372 -0.554394  0.542247   \n",
       "3 -0.217058  0.561328 -0.391213 -0.314464 -1.463333  1.803771 -1.844177   \n",
       "4 -0.217058  0.561328 -0.391213 -0.314464  0.683372 -0.554394  0.542247   \n",
       "\n",
       "   Pclass_2  Pclass_3  Sex_male  Embarked_Q  Embarked_S  \n",
       "0 -0.510875  0.900328  0.735342   -0.307941    0.616794  \n",
       "1 -0.510875 -1.110706 -1.359911   -0.307941   -1.621287  \n",
       "2 -0.510875  0.900328 -1.359911   -0.307941    0.616794  \n",
       "3 -0.510875 -1.110706 -1.359911   -0.307941    0.616794  \n",
       "4 -0.510875  0.900328  0.735342   -0.307941    0.616794  "
      ]
     },
     "execution_count": 160,
     "metadata": {},
     "output_type": "execute_result"
    }
   ],
   "source": [
    "xtrain_scale.head()"
   ]
  },
  {
   "cell_type": "code",
   "execution_count": 161,
   "metadata": {
    "execution": {
     "iopub.execute_input": "2021-07-30T07:57:10.030297Z",
     "iopub.status.busy": "2021-07-30T07:57:10.029889Z",
     "iopub.status.idle": "2021-07-30T07:57:10.054371Z",
     "shell.execute_reply": "2021-07-30T07:57:10.053030Z",
     "shell.execute_reply.started": "2021-07-30T07:57:10.030260Z"
    }
   },
   "outputs": [
    {
     "data": {
      "text/plain": [
       "SelectKBest(score_func=<function f_regression at 0x7f2a98e559e0>)"
      ]
     },
     "execution_count": 161,
     "metadata": {},
     "output_type": "execute_result"
    }
   ],
   "source": [
    "fs = SelectKBest(score_func=f_regression,k=10)\n",
    "fs.fit(xtrain_scale,ytrain)"
   ]
  },
  {
   "cell_type": "code",
   "execution_count": 162,
   "metadata": {
    "execution": {
     "iopub.execute_input": "2021-07-30T07:58:55.925275Z",
     "iopub.status.busy": "2021-07-30T07:58:55.924747Z",
     "iopub.status.idle": "2021-07-30T07:58:55.936699Z",
     "shell.execute_reply": "2021-07-30T07:58:55.935796Z",
     "shell.execute_reply.started": "2021-07-30T07:58:55.925241Z"
    }
   },
   "outputs": [],
   "source": [
    "df1 = pd.DataFrame(np.vstack((xtrain_scale.columns,fs.scores_))).T.sort_values(by=1,ascending=False)\n",
    "xtrain_fs = xtrain_scale[df1.iloc[:10,0].values]\n",
    "xtest_fs = xtest_scale[df1.iloc[:10,0].values]"
   ]
  },
  {
   "cell_type": "markdown",
   "metadata": {},
   "source": [
    "# Model Building"
   ]
  },
  {
   "cell_type": "code",
   "execution_count": 166,
   "metadata": {
    "execution": {
     "iopub.execute_input": "2021-07-30T08:00:04.196356Z",
     "iopub.status.busy": "2021-07-30T08:00:04.195963Z",
     "iopub.status.idle": "2021-07-30T08:00:04.261465Z",
     "shell.execute_reply": "2021-07-30T08:00:04.260238Z",
     "shell.execute_reply.started": "2021-07-30T08:00:04.196324Z"
    }
   },
   "outputs": [],
   "source": [
    "from sklearn.model_selection import cross_val_score\n",
    "from sklearn.naive_bayes import GaussianNB\n",
    "from sklearn.linear_model import LogisticRegression\n",
    "from sklearn import tree\n",
    "from sklearn.neighbors import KNeighborsClassifier\n",
    "from sklearn.ensemble import RandomForestClassifier\n",
    "from sklearn.svm import SVC"
   ]
  },
  {
   "cell_type": "code",
   "execution_count": 167,
   "metadata": {
    "execution": {
     "iopub.execute_input": "2021-07-30T08:00:08.765766Z",
     "iopub.status.busy": "2021-07-30T08:00:08.765402Z",
     "iopub.status.idle": "2021-07-30T08:00:08.807923Z",
     "shell.execute_reply": "2021-07-30T08:00:08.806756Z",
     "shell.execute_reply.started": "2021-07-30T08:00:08.765737Z"
    }
   },
   "outputs": [
    {
     "name": "stdout",
     "output_type": "stream",
     "text": [
      "[0.78089888 0.79775281 0.79213483 0.78089888 0.79096045]\n",
      "0.7885291690471657\n"
     ]
    }
   ],
   "source": [
    "gnb = GaussianNB()\n",
    "cv = cross_val_score(gnb,xtrain_fs,ytrain,cv=5)\n",
    "print(cv)\n",
    "print(cv.mean())"
   ]
  },
  {
   "cell_type": "code",
   "execution_count": 168,
   "metadata": {
    "execution": {
     "iopub.execute_input": "2021-07-30T08:00:12.339334Z",
     "iopub.status.busy": "2021-07-30T08:00:12.338914Z",
     "iopub.status.idle": "2021-07-30T08:00:12.577737Z",
     "shell.execute_reply": "2021-07-30T08:00:12.576585Z",
     "shell.execute_reply.started": "2021-07-30T08:00:12.339279Z"
    }
   },
   "outputs": [
    {
     "name": "stdout",
     "output_type": "stream",
     "text": [
      "[0.7752809  0.80337079 0.82022472 0.78651685 0.79096045]\n",
      "0.7952707420808736\n"
     ]
    }
   ],
   "source": [
    "lr = LogisticRegression(max_iter = 2000)\n",
    "cv = cross_val_score(lr,xtrain_fs,ytrain,cv=5)\n",
    "print(cv)\n",
    "print(cv.mean())"
   ]
  },
  {
   "cell_type": "code",
   "execution_count": 169,
   "metadata": {
    "execution": {
     "iopub.execute_input": "2021-07-30T08:00:18.765633Z",
     "iopub.status.busy": "2021-07-30T08:00:18.765254Z",
     "iopub.status.idle": "2021-07-30T08:00:18.812910Z",
     "shell.execute_reply": "2021-07-30T08:00:18.811876Z",
     "shell.execute_reply.started": "2021-07-30T08:00:18.765602Z"
    }
   },
   "outputs": [
    {
     "name": "stdout",
     "output_type": "stream",
     "text": [
      "[0.78651685 0.75280899 0.84269663 0.79775281 0.81920904]\n",
      "0.7997968640893798\n"
     ]
    }
   ],
   "source": [
    "dt = tree.DecisionTreeClassifier(random_state = 1)\n",
    "cv = cross_val_score(dt,xtrain_fs,ytrain,cv=5)\n",
    "print(cv)\n",
    "print(cv.mean())"
   ]
  },
  {
   "cell_type": "code",
   "execution_count": 170,
   "metadata": {
    "execution": {
     "iopub.execute_input": "2021-07-30T08:00:20.462972Z",
     "iopub.status.busy": "2021-07-30T08:00:20.462600Z",
     "iopub.status.idle": "2021-07-30T08:00:20.550974Z",
     "shell.execute_reply": "2021-07-30T08:00:20.549933Z",
     "shell.execute_reply.started": "2021-07-30T08:00:20.462939Z"
    }
   },
   "outputs": [
    {
     "name": "stdout",
     "output_type": "stream",
     "text": [
      "[0.80898876 0.76966292 0.82022472 0.79213483 0.82485876]\n",
      "0.8031739986034406\n"
     ]
    }
   ],
   "source": [
    "knn = KNeighborsClassifier()\n",
    "cv = cross_val_score(knn,xtrain_fs,ytrain,cv=5)\n",
    "print(cv)\n",
    "print(cv.mean())"
   ]
  },
  {
   "cell_type": "code",
   "execution_count": 171,
   "metadata": {
    "execution": {
     "iopub.execute_input": "2021-07-30T08:00:21.794423Z",
     "iopub.status.busy": "2021-07-30T08:00:21.793792Z",
     "iopub.status.idle": "2021-07-30T08:00:22.987974Z",
     "shell.execute_reply": "2021-07-30T08:00:22.987023Z",
     "shell.execute_reply.started": "2021-07-30T08:00:21.794367Z"
    }
   },
   "outputs": [
    {
     "name": "stdout",
     "output_type": "stream",
     "text": [
      "[0.78651685 0.75280899 0.83707865 0.78089888 0.81355932]\n",
      "0.794172538564083\n"
     ]
    }
   ],
   "source": [
    "rf = RandomForestClassifier(random_state = 1)\n",
    "cv = cross_val_score(rf,xtrain_fs,ytrain,cv=5)\n",
    "print(cv)\n",
    "print(cv.mean())"
   ]
  },
  {
   "cell_type": "code",
   "execution_count": 172,
   "metadata": {
    "execution": {
     "iopub.execute_input": "2021-07-30T08:00:24.422322Z",
     "iopub.status.busy": "2021-07-30T08:00:24.421904Z",
     "iopub.status.idle": "2021-07-30T08:00:24.835493Z",
     "shell.execute_reply": "2021-07-30T08:00:24.834474Z",
     "shell.execute_reply.started": "2021-07-30T08:00:24.422291Z"
    }
   },
   "outputs": [
    {
     "name": "stdout",
     "output_type": "stream",
     "text": [
      "[0.80898876 0.80898876 0.80898876 0.7752809  0.84180791]\n",
      "0.808811020123151\n"
     ]
    }
   ],
   "source": [
    "svc = SVC(probability = True)\n",
    "cv = cross_val_score(svc,xtrain_fs,ytrain,cv=5)\n",
    "print(cv)\n",
    "print(cv.mean())"
   ]
  },
  {
   "cell_type": "code",
   "execution_count": 173,
   "metadata": {
    "execution": {
     "iopub.execute_input": "2021-07-30T08:00:28.213490Z",
     "iopub.status.busy": "2021-07-30T08:00:28.213079Z",
     "iopub.status.idle": "2021-07-30T08:00:28.723908Z",
     "shell.execute_reply": "2021-07-30T08:00:28.723090Z",
     "shell.execute_reply.started": "2021-07-30T08:00:28.213451Z"
    }
   },
   "outputs": [
    {
     "name": "stdout",
     "output_type": "stream",
     "text": [
      "[08:00:28] WARNING: ../src/learner.cc:1095: Starting in XGBoost 1.3.0, the default evaluation metric used with the objective 'binary:logistic' was changed from 'error' to 'logloss'. Explicitly set eval_metric if you'd like to restore the old behavior.\n",
      "[08:00:28] WARNING: ../src/learner.cc:1095: Starting in XGBoost 1.3.0, the default evaluation metric used with the objective 'binary:logistic' was changed from 'error' to 'logloss'. Explicitly set eval_metric if you'd like to restore the old behavior.\n",
      "[08:00:28] WARNING: ../src/learner.cc:1095: Starting in XGBoost 1.3.0, the default evaluation metric used with the objective 'binary:logistic' was changed from 'error' to 'logloss'. Explicitly set eval_metric if you'd like to restore the old behavior.\n",
      "[08:00:28] WARNING: ../src/learner.cc:1095: Starting in XGBoost 1.3.0, the default evaluation metric used with the objective 'binary:logistic' was changed from 'error' to 'logloss'. Explicitly set eval_metric if you'd like to restore the old behavior.\n",
      "[08:00:28] WARNING: ../src/learner.cc:1095: Starting in XGBoost 1.3.0, the default evaluation metric used with the objective 'binary:logistic' was changed from 'error' to 'logloss'. Explicitly set eval_metric if you'd like to restore the old behavior.\n",
      "[0.79775281 0.78651685 0.86516854 0.82022472 0.83615819]\n",
      "0.8211642226877421\n"
     ]
    }
   ],
   "source": [
    "from xgboost import XGBClassifier\n",
    "xgb = XGBClassifier(random_state =1,use_label_encoder=False)\n",
    "cv = cross_val_score(xgb,xtrain_fs,ytrain,cv=5)\n",
    "print(cv)\n",
    "print(cv.mean())"
   ]
  },
  {
   "cell_type": "code",
   "execution_count": 174,
   "metadata": {
    "execution": {
     "iopub.execute_input": "2021-07-30T08:00:39.137547Z",
     "iopub.status.busy": "2021-07-30T08:00:39.136896Z",
     "iopub.status.idle": "2021-07-30T08:00:39.143106Z",
     "shell.execute_reply": "2021-07-30T08:00:39.141879Z",
     "shell.execute_reply.started": "2021-07-30T08:00:39.137511Z"
    }
   },
   "outputs": [],
   "source": [
    "#Voting classifier takes all of the inputs and averages the results. For a \"hard\" voting classifier each classifier gets 1 vote \"yes\" or \"no\" and the result is just a popular vote. For this, you generally want odd numbers\n",
    "#A \"soft\" classifier averages the confidence of each of the models. If a the average confidence is > 50% that it is a 1 it will be counted as such\n",
    "from sklearn.ensemble import VotingClassifier\n",
    "voting_clf = VotingClassifier(estimators = [('lr',lr),('knn',knn),('rf',rf),('gnb',gnb),('svc',svc),('xgb',xgb)], voting = 'soft') "
   ]
  },
  {
   "cell_type": "code",
   "execution_count": 180,
   "metadata": {
    "execution": {
     "iopub.execute_input": "2021-07-30T08:03:57.599096Z",
     "iopub.status.busy": "2021-07-30T08:03:57.598428Z",
     "iopub.status.idle": "2021-07-30T08:04:00.337733Z",
     "shell.execute_reply": "2021-07-30T08:04:00.336885Z",
     "shell.execute_reply.started": "2021-07-30T08:03:57.599055Z"
    }
   },
   "outputs": [
    {
     "name": "stdout",
     "output_type": "stream",
     "text": [
      "[08:03:58] WARNING: ../src/learner.cc:1095: Starting in XGBoost 1.3.0, the default evaluation metric used with the objective 'binary:logistic' was changed from 'error' to 'logloss'. Explicitly set eval_metric if you'd like to restore the old behavior.\n",
      "[08:03:58] WARNING: ../src/learner.cc:1095: Starting in XGBoost 1.3.0, the default evaluation metric used with the objective 'binary:logistic' was changed from 'error' to 'logloss'. Explicitly set eval_metric if you'd like to restore the old behavior.\n",
      "[08:03:59] WARNING: ../src/learner.cc:1095: Starting in XGBoost 1.3.0, the default evaluation metric used with the objective 'binary:logistic' was changed from 'error' to 'logloss'. Explicitly set eval_metric if you'd like to restore the old behavior.\n",
      "[08:03:59] WARNING: ../src/learner.cc:1095: Starting in XGBoost 1.3.0, the default evaluation metric used with the objective 'binary:logistic' was changed from 'error' to 'logloss'. Explicitly set eval_metric if you'd like to restore the old behavior.\n",
      "[08:04:00] WARNING: ../src/learner.cc:1095: Starting in XGBoost 1.3.0, the default evaluation metric used with the objective 'binary:logistic' was changed from 'error' to 'logloss'. Explicitly set eval_metric if you'd like to restore the old behavior.\n",
      "[0.8258427  0.81460674 0.83707865 0.7752809  0.86440678]\n",
      "0.8234431536850124\n"
     ]
    }
   ],
   "source": [
    "cv = cross_val_score(voting_clf,xtrain_scale,ytrain,cv=5)\n",
    "print(cv)\n",
    "print(cv.mean())"
   ]
  },
  {
   "cell_type": "code",
   "execution_count": 176,
   "metadata": {
    "execution": {
     "iopub.execute_input": "2021-07-30T08:00:56.854227Z",
     "iopub.status.busy": "2021-07-30T08:00:56.853844Z",
     "iopub.status.idle": "2021-07-30T08:00:56.962418Z",
     "shell.execute_reply": "2021-07-30T08:00:56.961331Z",
     "shell.execute_reply.started": "2021-07-30T08:00:56.854194Z"
    }
   },
   "outputs": [],
   "source": [
    "xtrain.to_csv('xtrain.csv')\n",
    "xtest.to_csv('xtest.csv')\n",
    "xtrain_scale.to_csv('xtrain_scale.csv')\n",
    "xtest_scale.to_csv('xtest_scale.csv')\n",
    "xtrain_fs.to_csv('xtrain_fs.csv')\n",
    "xtest_fs.to_csv('xtest_fs.csv')"
   ]
  },
  {
   "cell_type": "code",
   "execution_count": 181,
   "metadata": {
    "execution": {
     "iopub.execute_input": "2021-07-30T08:04:12.138911Z",
     "iopub.status.busy": "2021-07-30T08:04:12.138392Z",
     "iopub.status.idle": "2021-07-30T08:04:12.763098Z",
     "shell.execute_reply": "2021-07-30T08:04:12.762289Z",
     "shell.execute_reply.started": "2021-07-30T08:04:12.138875Z"
    }
   },
   "outputs": [
    {
     "name": "stdout",
     "output_type": "stream",
     "text": [
      "[08:04:12] WARNING: ../src/learner.cc:1095: Starting in XGBoost 1.3.0, the default evaluation metric used with the objective 'binary:logistic' was changed from 'error' to 'logloss'. Explicitly set eval_metric if you'd like to restore the old behavior.\n"
     ]
    }
   ],
   "source": [
    "voting_clf.fit(xtrain_fs,ytrain)\n",
    "ypred = voting_clf.predict(xtest_fs).astype(int)"
   ]
  },
  {
   "cell_type": "code",
   "execution_count": 182,
   "metadata": {
    "execution": {
     "iopub.execute_input": "2021-07-30T08:04:15.591455Z",
     "iopub.status.busy": "2021-07-30T08:04:15.590764Z",
     "iopub.status.idle": "2021-07-30T08:04:15.606607Z",
     "shell.execute_reply": "2021-07-30T08:04:15.605628Z",
     "shell.execute_reply.started": "2021-07-30T08:04:15.591416Z"
    }
   },
   "outputs": [],
   "source": [
    "test = pd.read_csv('../input/titanic/test.csv')\n",
    "basic_submission = {'PassengerId': test.PassengerId, 'Survived': ypred}\n",
    "base_submission = pd.DataFrame(data=basic_submission)\n",
    "base_submission.to_csv('submission.csv', index=False)"
   ]
  },
  {
   "cell_type": "code",
   "execution_count": null,
   "metadata": {},
   "outputs": [],
   "source": []
  }
 ],
 "metadata": {
  "kernelspec": {
   "display_name": "Python 3",
   "language": "python",
   "name": "python3"
  },
  "language_info": {
   "codemirror_mode": {
    "name": "ipython",
    "version": 3
   },
   "file_extension": ".py",
   "mimetype": "text/x-python",
   "name": "python",
   "nbconvert_exporter": "python",
   "pygments_lexer": "ipython3",
   "version": "3.8.5"
  }
 },
 "nbformat": 4,
 "nbformat_minor": 4
}
